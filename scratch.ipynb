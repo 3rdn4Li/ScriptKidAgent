{
 "cells": [
  {
   "cell_type": "code",
   "execution_count": 6,
   "metadata": {},
   "outputs": [
    {
     "name": "stdout",
     "output_type": "stream",
     "text": [
      "['oai-gpt-4o', 'oai-gpt-4o-mini', 'oai-gpt-4-turbo', 'oai-gpt-4o-latest', 'oai-gpt-4', 'oai-text-embedding-3-large', 'oai-gpt-3.5-turbo', 'oai-text-embedding-3-small', 'oai-gpt-4o-structured']\n"
     ]
    }
   ],
   "source": [
    "import openai\n",
    "import requests\n",
    "openai.api_key = \"sk-Q1K19zjR5Ld-MPi_6-TpmA\"\n",
    "\n",
    "# Define the URL for listing models\n",
    "# url = \"https://api.openai.com/v1/models\"\n",
    "base_url = \"http://128.111.49.59:4000\"  # Replace with your custom base URL, e.g., \"https://api.your-domain.com/v1\"\n",
    "\n",
    "# Define the endpoint for listing models\n",
    "url = f\"{base_url}/models\"\n",
    "# Make a request to the models endpoint\n",
    "response = requests.get(url, headers={\"Authorization\": f\"Bearer {openai.api_key}\"})\n",
    "\n",
    "# Parse and print the model IDs\n",
    "if response.status_code == 200:\n",
    "    models = response.json()['data']\n",
    "    print([model['id'] for model in models])\n",
    "else:\n",
    "    print(\"Error:\", response.status_code, response.text)"
   ]
  }
 ],
 "metadata": {
  "kernelspec": {
   "display_name": "base",
   "language": "python",
   "name": "python3"
  },
  "language_info": {
   "codemirror_mode": {
    "name": "ipython",
    "version": 3
   },
   "file_extension": ".py",
   "mimetype": "text/x-python",
   "name": "python",
   "nbconvert_exporter": "python",
   "pygments_lexer": "ipython3",
   "version": "3.11.5"
  }
 },
 "nbformat": 4,
 "nbformat_minor": 2
}
